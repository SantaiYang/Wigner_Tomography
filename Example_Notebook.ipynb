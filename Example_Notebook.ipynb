{
 "cells": [
  {
   "cell_type": "code",
   "execution_count": 5,
   "id": "f5fa065e-1871-402b-a98b-a97f522fc11c",
   "metadata": {
    "execution": {
     "iopub.execute_input": "2023-09-06T05:06:46.008174Z",
     "iopub.status.busy": "2023-09-06T05:06:46.007865Z",
     "iopub.status.idle": "2023-09-06T05:06:46.013558Z",
     "shell.execute_reply": "2023-09-06T05:06:46.012806Z",
     "shell.execute_reply.started": "2023-09-06T05:06:46.008148Z"
    },
    "tags": []
   },
   "outputs": [
    {
     "data": {
      "text/plain": [
       "<module 'Wigner_Tomography_Simulation_updated' from '/Users/yangsantai/Tavis-Cummings-simulations/Wigner_Tomography_Simulation_updated.py'>"
      ]
     },
     "execution_count": 5,
     "metadata": {},
     "output_type": "execute_result"
    }
   ],
   "source": [
    "import importlib\n",
    "importlib.reload(Wigner_Tomography_Simulation_updated)"
   ]
  },
  {
   "cell_type": "code",
   "execution_count": 4,
   "id": "f5fc4801-5a8d-4754-a681-ca5fef4de9bf",
   "metadata": {
    "execution": {
     "iopub.execute_input": "2023-09-06T05:06:43.762630Z",
     "iopub.status.busy": "2023-09-06T05:06:43.762352Z",
     "iopub.status.idle": "2023-09-06T05:06:43.773312Z",
     "shell.execute_reply": "2023-09-06T05:06:43.772600Z",
     "shell.execute_reply.started": "2023-09-06T05:06:43.762607Z"
    },
    "tags": []
   },
   "outputs": [],
   "source": [
    "import matplotlib as mpl\n",
    "import matplotlib.pyplot as plt\n",
    "import numpy as np\n",
    "from qutip import about, basis, destroy, mesolve, sesolve, ptrace, qeye, tensor, wigner, states, displace, expect, coherent, fock, sigmax, sigmay,sigmaz, sigmam, Qobj, fidelity\n",
    "%matplotlib inline\n",
    "\n",
    "import Wigner_Tomography_Simulation_updated\n",
    "from Wigner_Tomography_Simulation_updated import parityMapping, reconstruct_density_matrix, optimized_alphas_simul\n",
    "import numpy as np"
   ]
  },
  {
   "cell_type": "code",
   "execution_count": 6,
   "id": "eaf8dcc2-4bfb-4faa-ae84-bee009038eb6",
   "metadata": {
    "execution": {
     "iopub.execute_input": "2023-09-06T05:06:47.554638Z",
     "iopub.status.busy": "2023-09-06T05:06:47.554325Z",
     "iopub.status.idle": "2023-09-06T05:06:47.558287Z",
     "shell.execute_reply": "2023-09-06T05:06:47.557530Z",
     "shell.execute_reply.started": "2023-09-06T05:06:47.554612Z"
    },
    "tags": []
   },
   "outputs": [],
   "source": [
    "pm = parityMapping(\n",
    "    wc = 5.25, #GHz\n",
    "    wa = 5.8,\n",
    "    g = 0.018,\n",
    "    N_cav = 25,\n",
    "    N_qb = 2,\n",
    "    gamma_phase = np.sqrt(1/10000),\n",
    "    gamma_qubit = np.sqrt(1/10000)\n",
    ")"
   ]
  },
  {
   "cell_type": "code",
   "execution_count": 7,
   "id": "dd22861d-7fc1-4162-8076-7ab52c9f658e",
   "metadata": {
    "execution": {
     "iopub.execute_input": "2023-09-06T05:06:48.972347Z",
     "iopub.status.busy": "2023-09-06T05:06:48.972032Z",
     "iopub.status.idle": "2023-09-06T05:06:52.591271Z",
     "shell.execute_reply": "2023-09-06T05:06:52.590371Z",
     "shell.execute_reply.started": "2023-09-06T05:06:48.972320Z"
    },
    "tags": []
   },
   "outputs": [
    {
     "name": "stdout",
     "output_type": "stream",
     "text": [
      "b'CONVERGENCE: REL_REDUCTION_OF_F_<=_FACTR*EPSMCH'\n",
      "81\n"
     ]
    }
   ],
   "source": [
    "new_disps = optimized_alphas_simul(80, 7)"
   ]
  },
  {
   "cell_type": "code",
   "execution_count": 1,
   "id": "70807696-8087-4bd8-a3e5-3b8b7657b45c",
   "metadata": {
    "execution": {
     "iopub.execute_input": "2023-09-06T05:03:54.766855Z",
     "iopub.status.busy": "2023-09-06T05:03:54.766551Z",
     "iopub.status.idle": "2023-09-06T05:03:54.770375Z",
     "shell.execute_reply": "2023-09-06T05:03:54.769593Z",
     "shell.execute_reply.started": "2023-09-06T05:03:54.766828Z"
    },
    "tags": []
   },
   "outputs": [],
   "source": [
    "wa_list = np.linspace(5.8, 6.1, 4)\n",
    "fidelity_list = []\n",
    "for i in range(0, 9):\n",
    "    pm = parityMapping(\n",
    "    wc = 5.25, #GHz\n",
    "    wa = wa_list[i],\n",
    "    g = 0.018,\n",
    "    N_cav = 25,\n",
    "    N_qb = 2,\n",
    "    gamma_phase = np.sqrt(1/10000),\n",
    "    gamma_qubit = np.sqrt(1/10000)\n",
    "    )\n",
    "    c_ops = [tensor(qeye(pm.N_cav), pm.gamma_phase * sigmaz()), tensor(qeye(pm.N_cav), pm.gamma_qubit * sigmam())]\n",
    "    psi0 = tensor(fock(pm.N_cav, 0), (basis(2, 0) + basis(2, 1))/np.sqrt(2))\n",
    "    pseudo_i = reconstruct_density_matrix('rot_two_level', psi0, new_disps, 7, pm, tol = 0.003, simulation = True)\n",
    "    fidelity_list.append(fidelity(pseudo_i, fock(7,0)))\n",
    "    \n",
    "plt.scatter(wa_list, fidelity_list)"
   ]
  },
  {
   "cell_type": "code",
   "execution_count": 47,
   "id": "ef1f615e-4b79-4e2e-82d7-62da5d42c8a2",
   "metadata": {
    "collapsed": true,
    "execution": {
     "iopub.execute_input": "2023-08-30T05:38:06.276751Z",
     "iopub.status.busy": "2023-08-30T05:38:06.276403Z",
     "iopub.status.idle": "2023-08-30T05:38:06.445225Z",
     "shell.execute_reply": "2023-08-30T05:38:06.444475Z",
     "shell.execute_reply.started": "2023-08-30T05:38:06.276722Z"
    },
    "jupyter": {
     "outputs_hidden": true,
     "source_hidden": true
    },
    "tags": []
   },
   "outputs": [
    {
     "data": {
      "text/plain": [
       "<matplotlib.collections.PathCollection at 0x7f88f322caf0>"
      ]
     },
     "execution_count": 47,
     "metadata": {},
     "output_type": "execute_result"
    },
    {
     "data": {
      "image/png": "[encoded data removed]",
      "text/plain": [
       "<Figure size 432x288 with 1 Axes>"
      ]
     },
     "metadata": {
      "needs_background": "light"
     },
     "output_type": "display_data"
    }
   ],
   "source": [
    "plt.scatter(wa_list, fidelity_list)"
   ]
  },
  {
   "cell_type": "code",
   "execution_count": 25,
   "id": "8a6e9113-c792-49d7-aacd-45aee82ec637",
   "metadata": {
    "collapsed": true,
    "execution": {
     "iopub.execute_input": "2023-08-26T01:28:15.032400Z",
     "iopub.status.busy": "2023-08-26T01:28:15.032071Z",
     "iopub.status.idle": "2023-08-26T01:28:15.155784Z",
     "shell.execute_reply": "2023-08-26T01:28:15.155159Z",
     "shell.execute_reply.started": "2023-08-26T01:28:15.032373Z"
    },
    "jupyter": {
     "outputs_hidden": true,
     "source_hidden": true
    },
    "tags": []
   },
   "outputs": [
    {
     "data": {
      "text/plain": [
       "<matplotlib.collections.PathCollection at 0x7fc062046bb0>"
      ]
     },
     "execution_count": 25,
     "metadata": {},
     "output_type": "execute_result"
    },
    {
     "data": {
      "image/png": "[encoded data removed]",
      "text/plain": [
       "<Figure size 432x288 with 1 Axes>"
      ]
     },
     "metadata": {
      "needs_background": "light"
     },
     "output_type": "display_data"
    }
   ],
   "source": [
    "#plt.scatter(wa_list[:9], fidelity_list)"
   ]
  }
 ],
 "metadata": {
  "kernelspec": {
   "display_name": "Python 3",
   "language": "python",
   "name": "python3"
  },
  "language_info": {
   "codemirror_mode": {
    "name": "ipython",
    "version": 3
   },
   "file_extension": ".py",
   "mimetype": "text/x-python",
   "name": "python",
   "nbconvert_exporter": "python",
   "pygments_lexer": "ipython3",
   "version": "3.8.5"
  }
 },
 "nbformat": 4,
 "nbformat_minor": 5
}
